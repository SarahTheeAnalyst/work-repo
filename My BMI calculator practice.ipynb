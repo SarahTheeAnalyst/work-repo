{
 "cells": [
  {
   "cell_type": "code",
   "execution_count": null,
   "id": "0b82fd81-b12d-4c45-bae1-48198464bda0",
   "metadata": {},
   "outputs": [],
   "source": [
    "#BMI Calculator"
   ]
  },
  {
   "cell_type": "code",
   "execution_count": 27,
   "id": "baeb4303-a6cc-41ce-a82a-cc7c69573f2f",
   "metadata": {},
   "outputs": [
    {
     "name": "stdin",
     "output_type": "stream",
     "text": [
      "Enter your name: East\n",
      "Enter your weight in kg: 92\n",
      "Enter your height in m: 2.10\n"
     ]
    },
    {
     "name": "stdout",
     "output_type": "stream",
     "text": [
      "20.861678004535147\n",
      "East, you have a healthy weight.\n"
     ]
    }
   ],
   "source": [
    "Name= input('Enter your name:')\n",
    "weight= int(input('Enter your weight in kg:'))\n",
    "height= float(input('Enter your height in m:'))\n",
    "BMI = weight / (height*height)\n",
    "print(BMI)\n",
    "\n",
    "if BMI>0:\n",
    "    if BMI <18.5:\n",
    "        print(Name +', you are underweight.')\n",
    "    elif BMI >=18.5 and BMI <=24:\n",
    "        print(Name +', you have a healthy weight.')\n",
    "    elif BMI >=25 and BMI <=29:\n",
    "        print(Name +', you are overweight.')\n",
    "    elif BMI >=30 and BMI <=34:\n",
    "        print(Name +', you have class 1 obesity.')\n",
    "    elif BMI >=35 and BMI <=39:\n",
    "        print(Name +', you have class 2 obesity.')\n",
    "    elif BMI >=40:\n",
    "        print(Name +', you have severe obesity.')\n",
    "    else:\n",
    "        print('Enter valid input')"
   ]
  },
  {
   "cell_type": "code",
   "execution_count": null,
   "id": "27b10726-f574-4545-aa79-e871575e9892",
   "metadata": {},
   "outputs": [],
   "source": []
  },
  {
   "cell_type": "code",
   "execution_count": null,
   "id": "9ba39752-2633-4ced-a797-65e1dc6bc895",
   "metadata": {},
   "outputs": [],
   "source": [
    "#BMI = weight/(height * height)"
   ]
  },
  {
   "cell_type": "code",
   "execution_count": null,
   "id": "5441b8d6-8167-4c3d-ac45-b31832291ad4",
   "metadata": {},
   "outputs": [],
   "source": [
    "Underweight\n",
    "Less than 18.5\n",
    "Healthy Weight\n",
    "18.5 to less than 25\n",
    "Overweight\n",
    "25 to less than 30\n",
    "Obesity(Class 1 Obesity)\n",
    "30 to less than 35\n",
    "Class 2 Obesity\n",
    "35 to less than 40\n",
    "Class 3 Obesity\n",
    "(Severe Obesity)\n",
    "40 or greater"
   ]
  },
  {
   "cell_type": "code",
   "execution_count": null,
   "id": "335ecb25-8306-43c3-bfc3-67bc54c6e445",
   "metadata": {},
   "outputs": [],
   "source": []
  },
  {
   "cell_type": "code",
   "execution_count": null,
   "id": "009c820b-5fa2-4295-8e50-06bb38f154fe",
   "metadata": {},
   "outputs": [],
   "source": []
  },
  {
   "cell_type": "code",
   "execution_count": null,
   "id": "89b341b2-5a78-4a3d-adaf-7b79d3adf00c",
   "metadata": {},
   "outputs": [],
   "source": []
  },
  {
   "cell_type": "code",
   "execution_count": null,
   "id": "a89194a2-88d2-4273-b732-f5f1a66bc0b7",
   "metadata": {},
   "outputs": [],
   "source": []
  },
  {
   "cell_type": "code",
   "execution_count": null,
   "id": "30365d58-9e7a-4f1a-9bd4-02716f66ccd7",
   "metadata": {},
   "outputs": [],
   "source": []
  },
  {
   "cell_type": "code",
   "execution_count": null,
   "id": "dd092de2-6830-45eb-8568-826cc1de2d07",
   "metadata": {},
   "outputs": [],
   "source": []
  }
 ],
 "metadata": {
  "kernelspec": {
   "display_name": "Python [conda env:base] *",
   "language": "python",
   "name": "conda-base-py"
  },
  "language_info": {
   "codemirror_mode": {
    "name": "ipython",
    "version": 3
   },
   "file_extension": ".py",
   "mimetype": "text/x-python",
   "name": "python",
   "nbconvert_exporter": "python",
   "pygments_lexer": "ipython3",
   "version": "3.11.7"
  }
 },
 "nbformat": 4,
 "nbformat_minor": 5
}
